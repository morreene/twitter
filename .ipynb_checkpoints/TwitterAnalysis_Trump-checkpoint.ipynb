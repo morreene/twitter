{
 "cells": [
  {
   "cell_type": "markdown",
   "metadata": {},
   "source": [
    "# Twitter Analysis\n",
    "\n",
    "* Based on [\"Sentiment analysis on Trump's tweets using Python\"](https://dev.to/rodolfoferro/sentiment-analysis-on-trumpss-tweets-using-python-); And in [Github](https://github.com/RodolfoFerro/pandas_twitter)"
   ]
  },
  {
   "cell_type": "markdown",
   "metadata": {},
   "source": [
    "## 1. Extracting twitter data (tweepy + pandas)"
   ]
  },
  {
   "cell_type": "markdown",
   "metadata": {},
   "source": [
    "### 1.1. Importing our libraries"
   ]
  },
  {
   "cell_type": "code",
   "execution_count": 1,
   "metadata": {
    "collapsed": true
   },
   "outputs": [],
   "source": [
    "# General:\n",
    "import tweepy           # To consume Twitter's API\n",
    "import pandas as pd     # To handle data\n",
    "import numpy as np      # For number computing\n",
    "\n",
    "# For plotting and visualization:\n",
    "from IPython.display import display\n",
    "import matplotlib.pyplot as plt\n",
    "import seaborn as sns\n",
    "%matplotlib inline"
   ]
  },
  {
   "cell_type": "markdown",
   "metadata": {},
   "source": [
    "### 1.2. Creating a Twitter App\n",
    "Create file credentials.py, which includes keys and tokens from twitter: Consumer Key (API Key), Consumer Secret (API Secret), Access Token, Access Token Secret. \n",
    "\n",
    "The reason of creating this extra file is that we want to export only the value of this variables, but being unseen in our main code (our notebook). We are now able to consume Twitter's API. In order to do this, we will create a function to allow us our keys authentication."
   ]
  },
  {
   "cell_type": "code",
   "execution_count": 2,
   "metadata": {
    "collapsed": true
   },
   "outputs": [],
   "source": [
    "# We import our access keys:\n",
    "from credentials import *    # This will allow us to use the keys as variables\n",
    "\n",
    "# API's setup:\n",
    "def twitter_setup():\n",
    "    \"\"\"\n",
    "    Utility function to setup the Twitter's API\n",
    "    with our access keys provided.\n",
    "    \"\"\"\n",
    "    # Authentication and access using keys:\n",
    "    auth = tweepy.OAuthHandler(CONSUMER_KEY, CONSUMER_SECRET)\n",
    "    auth.set_access_token(ACCESS_TOKEN, ACCESS_SECRET)\n",
    "\n",
    "    # Return API with authentication:\n",
    "    api = tweepy.API(auth)\n",
    "    return api"
   ]
  },
  {
   "cell_type": "markdown",
   "metadata": {},
   "source": [
    "## 1.3. Tweets extraction\n",
    "Now that we've created a function to setup the Twitter API, we can use this function to create an \"extractor\" object. After this, we will use Tweepy's function extractor.user_timeline(screen_name, count) to extract from screen_name's user the quantity of count tweets.\n",
    "\n",
    "As it is mentioned in the title, I've chosen @realDonaldTrump as the user to extract data for a posterior analysis."
   ]
  },
  {
   "cell_type": "code",
   "execution_count": 3,
   "metadata": {},
   "outputs": [
    {
     "name": "stdout",
     "output_type": "stream",
     "text": [
      "Number of tweets extracted: 200.\n",
      "\n",
      "5 recent tweets:\n",
      "\n",
      "Thank you! https://t.co/TD0rYcWN8C\n",
      "\n",
      "We had a wonderful visit to Vietnam, thank you President Tran Dai Quang! Heading to the #ASEANSummit 50th Anniv Gal… https://t.co/s5gIKMqt50\n",
      "\n",
      "Just landed in the Philippines after a great day of meetings and events in Hanoi, Vietnam! https://t.co/YxHRNhhPWo\n",
      "\n",
      "Why would Kim Jong-un insult me by calling me \"old,\" when I would NEVER call him \"short and fat?\" Oh well, I try so… https://t.co/PmsWNkH4r4\n",
      "\n",
      "Does the Fake News Media remember when Crooked Hillary Clinton, as Secretary of State, was begging Russia to be our… https://t.co/0QnLU03c03\n",
      "\n"
     ]
    }
   ],
   "source": [
    "# We create an extractor object:\n",
    "extractor = twitter_setup()\n",
    "\n",
    "# We create a tweet list as follows:\n",
    "tweets = extractor.user_timeline(screen_name=\"realDonaldTrump\", count=200)\n",
    "print(\"Number of tweets extracted: {}.\\n\".format(len(tweets)))\n",
    "\n",
    "# We print the most recent 5 tweets:\n",
    "print(\"5 recent tweets:\\n\")\n",
    "for tweet in tweets[:5]:\n",
    "    print(tweet.text)\n",
    "    print()"
   ]
  },
  {
   "cell_type": "markdown",
   "metadata": {},
   "source": [
    "## 1.4. Creating a (pandas) DataFrame"
   ]
  },
  {
   "cell_type": "code",
   "execution_count": 4,
   "metadata": {},
   "outputs": [
    {
     "data": {
      "text/html": [
       "<div>\n",
       "<style>\n",
       "    .dataframe thead tr:only-child th {\n",
       "        text-align: right;\n",
       "    }\n",
       "\n",
       "    .dataframe thead th {\n",
       "        text-align: left;\n",
       "    }\n",
       "\n",
       "    .dataframe tbody tr th {\n",
       "        vertical-align: top;\n",
       "    }\n",
       "</style>\n",
       "<table border=\"1\" class=\"dataframe\">\n",
       "  <thead>\n",
       "    <tr style=\"text-align: right;\">\n",
       "      <th></th>\n",
       "      <th>Tweets</th>\n",
       "    </tr>\n",
       "  </thead>\n",
       "  <tbody>\n",
       "    <tr>\n",
       "      <th>0</th>\n",
       "      <td>Thank you! https://t.co/TD0rYcWN8C</td>\n",
       "    </tr>\n",
       "    <tr>\n",
       "      <th>1</th>\n",
       "      <td>We had a wonderful visit to Vietnam, thank you...</td>\n",
       "    </tr>\n",
       "    <tr>\n",
       "      <th>2</th>\n",
       "      <td>Just landed in the Philippines after a great d...</td>\n",
       "    </tr>\n",
       "    <tr>\n",
       "      <th>3</th>\n",
       "      <td>Why would Kim Jong-un insult me by calling me ...</td>\n",
       "    </tr>\n",
       "    <tr>\n",
       "      <th>4</th>\n",
       "      <td>Does the Fake News Media remember when Crooked...</td>\n",
       "    </tr>\n",
       "    <tr>\n",
       "      <th>5</th>\n",
       "      <td>When will all the haters and fools out there r...</td>\n",
       "    </tr>\n",
       "    <tr>\n",
       "      <th>6</th>\n",
       "      <td>Met with President Putin of Russia who was at ...</td>\n",
       "    </tr>\n",
       "    <tr>\n",
       "      <th>7</th>\n",
       "      <td>Will be doing a joint press conference in Hano...</td>\n",
       "    </tr>\n",
       "    <tr>\n",
       "      <th>8</th>\n",
       "      <td>President Xi of China has stated that he is up...</td>\n",
       "    </tr>\n",
       "    <tr>\n",
       "      <th>9</th>\n",
       "      <td>“Presidential Proclamation Commemorating the 5...</td>\n",
       "    </tr>\n",
       "  </tbody>\n",
       "</table>\n",
       "</div>"
      ],
      "text/plain": [
       "                                              Tweets\n",
       "0                 Thank you! https://t.co/TD0rYcWN8C\n",
       "1  We had a wonderful visit to Vietnam, thank you...\n",
       "2  Just landed in the Philippines after a great d...\n",
       "3  Why would Kim Jong-un insult me by calling me ...\n",
       "4  Does the Fake News Media remember when Crooked...\n",
       "5  When will all the haters and fools out there r...\n",
       "6  Met with President Putin of Russia who was at ...\n",
       "7  Will be doing a joint press conference in Hano...\n",
       "8  President Xi of China has stated that he is up...\n",
       "9  “Presidential Proclamation Commemorating the 5..."
      ]
     },
     "metadata": {},
     "output_type": "display_data"
    }
   ],
   "source": [
    "# We create a pandas dataframe as follows:\n",
    "data = pd.DataFrame(data=[tweet.text for tweet in tweets], columns=['Tweets'])\n",
    "\n",
    "# We display the first 10 elements of the dataframe:\n",
    "display(data.head(10))"
   ]
  },
  {
   "cell_type": "markdown",
   "metadata": {},
   "source": [
    "An interesting thing is the number of internal methods that the tweetstructure has in Tweepy:"
   ]
  },
  {
   "cell_type": "code",
   "execution_count": 6,
   "metadata": {},
   "outputs": [
    {
     "name": "stdout",
     "output_type": "stream",
     "text": [
      "['__class__', '__delattr__', '__dict__', '__dir__', '__doc__', '__eq__', '__format__', '__ge__', '__getattribute__', '__getstate__', '__gt__', '__hash__', '__init__', '__init_subclass__', '__le__', '__lt__', '__module__', '__ne__', '__new__', '__reduce__', '__reduce_ex__', '__repr__', '__setattr__', '__sizeof__', '__str__', '__subclasshook__', '__weakref__', '_api', '_json', 'author', 'contributors', 'coordinates', 'created_at', 'destroy', 'entities', 'favorite', 'favorite_count', 'favorited', 'geo', 'id', 'id_str', 'in_reply_to_screen_name', 'in_reply_to_status_id', 'in_reply_to_status_id_str', 'in_reply_to_user_id', 'in_reply_to_user_id_str', 'is_quote_status', 'lang', 'parse', 'parse_list', 'place', 'possibly_sensitive', 'quoted_status', 'quoted_status_id', 'quoted_status_id_str', 'retweet', 'retweet_count', 'retweeted', 'retweets', 'source', 'source_url', 'text', 'truncated', 'user']\n"
     ]
    }
   ],
   "source": [
    "# Internal methods of a single tweet object:\n",
    "print(dir(tweets[0]))"
   ]
  },
  {
   "cell_type": "markdown",
   "metadata": {},
   "source": [
    "The interesting part from here is the quantity of metadata contained in a single tweet. If we want to obtain data such as the creation date, or the source of creation, we can access the info with this attributes. An example is the following:"
   ]
  },
  {
   "cell_type": "code",
   "execution_count": 7,
   "metadata": {},
   "outputs": [
    {
     "name": "stdout",
     "output_type": "stream",
     "text": [
      "929717762422988801\n",
      "2017-11-12 14:29:22\n",
      "Twitter for iPhone\n",
      "28848\n",
      "5296\n",
      "None\n",
      "None\n",
      "{'hashtags': [], 'symbols': [], 'user_mentions': [], 'urls': [{'url': 'https://t.co/TD0rYcWN8C', 'expanded_url': 'https://twitter.com/usembassymanila/status/929684767087378432', 'display_url': 'twitter.com/usembassymanil…', 'indices': [11, 34]}]}\n"
     ]
    }
   ],
   "source": [
    "# We print info from the first tweet:\n",
    "print(tweets[0].id)\n",
    "print(tweets[0].created_at)\n",
    "print(tweets[0].source)\n",
    "print(tweets[0].favorite_count)\n",
    "print(tweets[0].retweet_count)\n",
    "print(tweets[0].geo)\n",
    "print(tweets[0].coordinates)\n",
    "print(tweets[0].entities)"
   ]
  },
  {
   "cell_type": "markdown",
   "metadata": {},
   "source": [
    "## 1.5. Adding relevant info to our dataframe"
   ]
  },
  {
   "cell_type": "code",
   "execution_count": 8,
   "metadata": {
    "collapsed": true
   },
   "outputs": [],
   "source": [
    "# We add relevant data:\n",
    "data['len']  = np.array([len(tweet.text) for tweet in tweets])\n",
    "data['ID']   = np.array([tweet.id for tweet in tweets])\n",
    "data['Date'] = np.array([tweet.created_at for tweet in tweets])\n",
    "data['Source'] = np.array([tweet.source for tweet in tweets])\n",
    "data['Likes']  = np.array([tweet.favorite_count for tweet in tweets])\n",
    "data['RTs']    = np.array([tweet.retweet_count for tweet in tweets])"
   ]
  },
  {
   "cell_type": "code",
   "execution_count": 9,
   "metadata": {},
   "outputs": [
    {
     "data": {
      "text/html": [
       "<div>\n",
       "<style>\n",
       "    .dataframe thead tr:only-child th {\n",
       "        text-align: right;\n",
       "    }\n",
       "\n",
       "    .dataframe thead th {\n",
       "        text-align: left;\n",
       "    }\n",
       "\n",
       "    .dataframe tbody tr th {\n",
       "        vertical-align: top;\n",
       "    }\n",
       "</style>\n",
       "<table border=\"1\" class=\"dataframe\">\n",
       "  <thead>\n",
       "    <tr style=\"text-align: right;\">\n",
       "      <th></th>\n",
       "      <th>Tweets</th>\n",
       "      <th>len</th>\n",
       "      <th>ID</th>\n",
       "      <th>Date</th>\n",
       "      <th>Source</th>\n",
       "      <th>Likes</th>\n",
       "      <th>RTs</th>\n",
       "    </tr>\n",
       "  </thead>\n",
       "  <tbody>\n",
       "    <tr>\n",
       "      <th>0</th>\n",
       "      <td>Thank you! https://t.co/TD0rYcWN8C</td>\n",
       "      <td>34</td>\n",
       "      <td>929717762422988801</td>\n",
       "      <td>2017-11-12 14:29:22</td>\n",
       "      <td>Twitter for iPhone</td>\n",
       "      <td>28848</td>\n",
       "      <td>5296</td>\n",
       "    </tr>\n",
       "    <tr>\n",
       "      <th>1</th>\n",
       "      <td>We had a wonderful visit to Vietnam, thank you...</td>\n",
       "      <td>140</td>\n",
       "      <td>929670192434745344</td>\n",
       "      <td>2017-11-12 11:20:20</td>\n",
       "      <td>Twitter for iPhone</td>\n",
       "      <td>33044</td>\n",
       "      <td>6362</td>\n",
       "    </tr>\n",
       "    <tr>\n",
       "      <th>2</th>\n",
       "      <td>Just landed in the Philippines after a great d...</td>\n",
       "      <td>114</td>\n",
       "      <td>929655283181391874</td>\n",
       "      <td>2017-11-12 10:21:06</td>\n",
       "      <td>Twitter for iPhone</td>\n",
       "      <td>44835</td>\n",
       "      <td>7283</td>\n",
       "    </tr>\n",
       "    <tr>\n",
       "      <th>3</th>\n",
       "      <td>Why would Kim Jong-un insult me by calling me ...</td>\n",
       "      <td>140</td>\n",
       "      <td>929511061954297857</td>\n",
       "      <td>2017-11-12 00:48:01</td>\n",
       "      <td>Twitter Web Client</td>\n",
       "      <td>435026</td>\n",
       "      <td>202872</td>\n",
       "    </tr>\n",
       "    <tr>\n",
       "      <th>4</th>\n",
       "      <td>Does the Fake News Media remember when Crooked...</td>\n",
       "      <td>140</td>\n",
       "      <td>929509950811881472</td>\n",
       "      <td>2017-11-12 00:43:36</td>\n",
       "      <td>Twitter Web Client</td>\n",
       "      <td>89526</td>\n",
       "      <td>22327</td>\n",
       "    </tr>\n",
       "    <tr>\n",
       "      <th>5</th>\n",
       "      <td>When will all the haters and fools out there r...</td>\n",
       "      <td>140</td>\n",
       "      <td>929503641014112256</td>\n",
       "      <td>2017-11-12 00:18:32</td>\n",
       "      <td>Twitter Web Client</td>\n",
       "      <td>129754</td>\n",
       "      <td>33023</td>\n",
       "    </tr>\n",
       "    <tr>\n",
       "      <th>6</th>\n",
       "      <td>Met with President Putin of Russia who was at ...</td>\n",
       "      <td>140</td>\n",
       "      <td>929503025512693760</td>\n",
       "      <td>2017-11-12 00:16:05</td>\n",
       "      <td>Twitter Web Client</td>\n",
       "      <td>59414</td>\n",
       "      <td>12729</td>\n",
       "    </tr>\n",
       "    <tr>\n",
       "      <th>7</th>\n",
       "      <td>Will be doing a joint press conference in Hano...</td>\n",
       "      <td>117</td>\n",
       "      <td>929492850101940225</td>\n",
       "      <td>2017-11-11 23:35:39</td>\n",
       "      <td>Twitter for iPhone</td>\n",
       "      <td>48260</td>\n",
       "      <td>8503</td>\n",
       "    </tr>\n",
       "    <tr>\n",
       "      <th>8</th>\n",
       "      <td>President Xi of China has stated that he is up...</td>\n",
       "      <td>139</td>\n",
       "      <td>929492038231429120</td>\n",
       "      <td>2017-11-11 23:32:25</td>\n",
       "      <td>Twitter for iPhone</td>\n",
       "      <td>62451</td>\n",
       "      <td>13562</td>\n",
       "    </tr>\n",
       "    <tr>\n",
       "      <th>9</th>\n",
       "      <td>“Presidential Proclamation Commemorating the 5...</td>\n",
       "      <td>137</td>\n",
       "      <td>929326786709807105</td>\n",
       "      <td>2017-11-11 12:35:46</td>\n",
       "      <td>Twitter for iPhone</td>\n",
       "      <td>50213</td>\n",
       "      <td>11134</td>\n",
       "    </tr>\n",
       "  </tbody>\n",
       "</table>\n",
       "</div>"
      ],
      "text/plain": [
       "                                              Tweets  len                  ID  \\\n",
       "0                 Thank you! https://t.co/TD0rYcWN8C   34  929717762422988801   \n",
       "1  We had a wonderful visit to Vietnam, thank you...  140  929670192434745344   \n",
       "2  Just landed in the Philippines after a great d...  114  929655283181391874   \n",
       "3  Why would Kim Jong-un insult me by calling me ...  140  929511061954297857   \n",
       "4  Does the Fake News Media remember when Crooked...  140  929509950811881472   \n",
       "5  When will all the haters and fools out there r...  140  929503641014112256   \n",
       "6  Met with President Putin of Russia who was at ...  140  929503025512693760   \n",
       "7  Will be doing a joint press conference in Hano...  117  929492850101940225   \n",
       "8  President Xi of China has stated that he is up...  139  929492038231429120   \n",
       "9  “Presidential Proclamation Commemorating the 5...  137  929326786709807105   \n",
       "\n",
       "                 Date              Source   Likes     RTs  \n",
       "0 2017-11-12 14:29:22  Twitter for iPhone   28848    5296  \n",
       "1 2017-11-12 11:20:20  Twitter for iPhone   33044    6362  \n",
       "2 2017-11-12 10:21:06  Twitter for iPhone   44835    7283  \n",
       "3 2017-11-12 00:48:01  Twitter Web Client  435026  202872  \n",
       "4 2017-11-12 00:43:36  Twitter Web Client   89526   22327  \n",
       "5 2017-11-12 00:18:32  Twitter Web Client  129754   33023  \n",
       "6 2017-11-12 00:16:05  Twitter Web Client   59414   12729  \n",
       "7 2017-11-11 23:35:39  Twitter for iPhone   48260    8503  \n",
       "8 2017-11-11 23:32:25  Twitter for iPhone   62451   13562  \n",
       "9 2017-11-11 12:35:46  Twitter for iPhone   50213   11134  "
      ]
     },
     "metadata": {},
     "output_type": "display_data"
    }
   ],
   "source": [
    "# Display of first 10 elements from dataframe:\n",
    "display(data.head(10))"
   ]
  },
  {
   "cell_type": "markdown",
   "metadata": {},
   "source": [
    "## 2. Visualization and basic statistics"
   ]
  },
  {
   "cell_type": "markdown",
   "metadata": {},
   "source": [
    "### 2.1. Averages and popularity"
   ]
  },
  {
   "cell_type": "code",
   "execution_count": 10,
   "metadata": {},
   "outputs": [
    {
     "name": "stdout",
     "output_type": "stream",
     "text": [
      "The lenght's average in tweets: 122.635\n"
     ]
    }
   ],
   "source": [
    "# We extract the mean of lenghts:\n",
    "mean = np.mean(data['len'])\n",
    "\n",
    "print(\"The lenght's average in tweets: {}\".format(mean))"
   ]
  },
  {
   "cell_type": "code",
   "execution_count": 11,
   "metadata": {},
   "outputs": [
    {
     "name": "stdout",
     "output_type": "stream",
     "text": [
      "The tweet with more likes is: \n",
      "Why would Kim Jong-un insult me by calling me \"old,\" when I would NEVER call him \"short and fat?\" Oh well, I try so… https://t.co/PmsWNkH4r4\n",
      "Number of likes: 435026\n",
      "140 characters.\n",
      "\n",
      "The tweet with more retweets is: \n",
      "Why would Kim Jong-un insult me by calling me \"old,\" when I would NEVER call him \"short and fat?\" Oh well, I try so… https://t.co/PmsWNkH4r4\n",
      "Number of retweets: 202872\n",
      "140 characters.\n",
      "\n"
     ]
    }
   ],
   "source": [
    "# We extract the tweet with more FAVs and more RTs:\n",
    "\n",
    "fav_max = np.max(data['Likes'])\n",
    "rt_max  = np.max(data['RTs'])\n",
    "\n",
    "fav = data[data.Likes == fav_max].index[0]\n",
    "rt  = data[data.RTs == rt_max].index[0]\n",
    "\n",
    "# Max FAVs:\n",
    "print(\"The tweet with more likes is: \\n{}\".format(data['Tweets'][fav]))\n",
    "print(\"Number of likes: {}\".format(fav_max))\n",
    "print(\"{} characters.\\n\".format(data['len'][fav]))\n",
    "\n",
    "# Max RTs:\n",
    "print(\"The tweet with more retweets is: \\n{}\".format(data['Tweets'][rt]))\n",
    "print(\"Number of retweets: {}\".format(rt_max))\n",
    "print(\"{} characters.\\n\".format(data['len'][rt]))"
   ]
  },
  {
   "cell_type": "markdown",
   "metadata": {},
   "source": [
    "### 2.2. Time series"
   ]
  },
  {
   "cell_type": "code",
   "execution_count": 12,
   "metadata": {
    "collapsed": true
   },
   "outputs": [],
   "source": [
    "# We create time series for data:\n",
    "\n",
    "tlen = pd.Series(data=data['len'].values, index=data['Date'])\n",
    "tfav = pd.Series(data=data['Likes'].values, index=data['Date'])\n",
    "tret = pd.Series(data=data['RTs'].values, index=data['Date'])"
   ]
  },
  {
   "cell_type": "code",
   "execution_count": 13,
   "metadata": {},
   "outputs": [
    {
     "data": {
      "text/plain": [
       "Date\n",
       "2017-11-12 14:29:22     34\n",
       "2017-11-12 11:20:20    140\n",
       "2017-11-12 10:21:06    114\n",
       "2017-11-12 00:48:01    140\n",
       "2017-11-12 00:43:36    140\n",
       "2017-11-12 00:18:32    140\n",
       "2017-11-12 00:16:05    140\n",
       "2017-11-11 23:35:39    117\n",
       "2017-11-11 23:32:25    139\n",
       "2017-11-11 12:35:46    137\n",
       "2017-11-11 12:11:53    140\n",
       "2017-11-10 12:57:23    136\n",
       "2017-11-10 10:43:48    139\n",
       "2017-11-10 10:26:22    140\n",
       "2017-11-10 10:06:37    140\n",
       "2017-11-10 09:50:25    140\n",
       "2017-11-10 09:32:07    140\n",
       "2017-11-10 05:45:36     64\n",
       "2017-11-10 01:17:15    140\n",
       "2017-11-09 23:44:17    140\n",
       "2017-11-09 23:39:56    140\n",
       "2017-11-09 13:58:32    140\n",
       "2017-11-09 07:08:33    140\n",
       "2017-11-08 18:17:41    140\n",
       "2017-11-08 15:40:40    140\n",
       "2017-11-08 15:15:08    140\n",
       "2017-11-08 14:27:18    140\n",
       "2017-11-08 04:57:40    107\n",
       "2017-11-08 03:43:59    136\n",
       "2017-11-08 03:14:34    140\n",
       "                      ... \n",
       "2017-10-26 03:33:41     83\n",
       "2017-10-26 01:47:50    128\n",
       "2017-10-26 01:26:05    143\n",
       "2017-10-25 22:46:57     90\n",
       "2017-10-25 22:17:36    144\n",
       "2017-10-25 19:56:39     87\n",
       "2017-10-25 19:39:22    144\n",
       "2017-10-25 19:24:10    144\n",
       "2017-10-25 17:46:10     84\n",
       "2017-10-25 17:19:31    111\n",
       "2017-10-25 15:40:03     49\n",
       "2017-10-25 12:33:30    138\n",
       "2017-10-25 11:35:16    144\n",
       "2017-10-25 11:30:36    140\n",
       "2017-10-25 11:27:36    144\n",
       "2017-10-25 11:21:30    135\n",
       "2017-10-24 22:20:42    138\n",
       "2017-10-24 19:11:38    136\n",
       "2017-10-24 14:35:32     66\n",
       "2017-10-24 14:20:46    140\n",
       "2017-10-24 14:13:48    143\n",
       "2017-10-24 13:30:21    140\n",
       "2017-10-24 12:20:35    140\n",
       "2017-10-24 12:13:59    142\n",
       "2017-10-23 23:18:01    140\n",
       "2017-10-23 12:30:10    132\n",
       "2017-10-23 11:53:08    142\n",
       "2017-10-23 11:42:56    129\n",
       "2017-10-22 12:08:47    139\n",
       "2017-10-22 12:02:31    144\n",
       "Length: 200, dtype: int32"
      ]
     },
     "execution_count": 13,
     "metadata": {},
     "output_type": "execute_result"
    }
   ],
   "source": [
    "tlen"
   ]
  },
  {
   "cell_type": "code",
   "execution_count": 14,
   "metadata": {},
   "outputs": [
    {
     "data": {
      "image/png": "[encoded data removed]",
      "text/plain": [
       "<matplotlib.figure.Figure at 0x1fd7f970f98>"
      ]
     },
     "metadata": {},
     "output_type": "display_data"
    }
   ],
   "source": [
    "# Lenghts along time:\n",
    "tlen.plot(figsize=(16,4), color='r');"
   ]
  },
  {
   "cell_type": "code",
   "execution_count": 15,
   "metadata": {
    "scrolled": true
   },
   "outputs": [
    {
     "data": {
      "image/png": "[encoded data removed]",
      "text/plain": [
       "<matplotlib.figure.Figure at 0x1fd7f9c12e8>"
      ]
     },
     "metadata": {},
     "output_type": "display_data"
    }
   ],
   "source": [
    "# Likes vs retweets visualization:\n",
    "tfav.plot(figsize=(16,4), label=\"Likes\", legend=True)\n",
    "tret.plot(figsize=(16,4), label=\"Retweets\", legend=True);"
   ]
  },
  {
   "cell_type": "markdown",
   "metadata": {},
   "source": [
    "### 2.3. Pie charts of sources"
   ]
  },
  {
   "cell_type": "code",
   "execution_count": 16,
   "metadata": {},
   "outputs": [
    {
     "name": "stdout",
     "output_type": "stream",
     "text": [
      "Creation of content sources:\n",
      "* Twitter for iPhone\n",
      "* Twitter Web Client\n",
      "* Media Studio\n",
      "* Twitter for iPad\n"
     ]
    }
   ],
   "source": [
    "# We obtain all possible sources:\n",
    "sources = []\n",
    "for source in data['Source']:\n",
    "    if source not in sources:\n",
    "        sources.append(source)\n",
    "\n",
    "# We print sources list:\n",
    "print(\"Creation of content sources:\")\n",
    "for source in sources:\n",
    "    print(\"* {}\".format(source))"
   ]
  },
  {
   "cell_type": "code",
   "execution_count": 17,
   "metadata": {},
   "outputs": [
    {
     "data": {
      "image/png": "[encoded data removed]",
      "text/plain": [
       "<matplotlib.figure.Figure at 0x1fd73c945f8>"
      ]
     },
     "metadata": {},
     "output_type": "display_data"
    }
   ],
   "source": [
    "# We create a numpy vector mapped to labels:\n",
    "percent = np.zeros(len(sources))\n",
    "\n",
    "for source in data['Source']:\n",
    "    for index in range(len(sources)):\n",
    "        if source == sources[index]:\n",
    "            percent[index] += 1\n",
    "            pass\n",
    "\n",
    "percent /= 100\n",
    "\n",
    "# Pie chart:\n",
    "pie_chart = pd.Series(percent, index=sources, name='Sources')\n",
    "pie_chart.plot.pie(fontsize=11, autopct='%.2f', figsize=(6, 6));"
   ]
  },
  {
   "cell_type": "code",
   "execution_count": 18,
   "metadata": {
    "collapsed": true
   },
   "outputs": [],
   "source": [
    "count_by_source = data.groupby('Source').size()"
   ]
  },
  {
   "cell_type": "markdown",
   "metadata": {},
   "source": [
    "My way - simple and easier way"
   ]
  },
  {
   "cell_type": "code",
   "execution_count": 20,
   "metadata": {},
   "outputs": [
    {
     "data": {
      "image/png": "[encoded data removed]",
      "text/plain": [
       "<matplotlib.figure.Figure at 0x1fd7fba7630>"
      ]
     },
     "metadata": {},
     "output_type": "display_data"
    }
   ],
   "source": [
    "count_by_source.plot.pie(fontsize=11, autopct='%.2f', figsize=(6, 6));"
   ]
  },
  {
   "cell_type": "markdown",
   "metadata": {},
   "source": [
    "## 3. Sentiment analysis"
   ]
  },
  {
   "cell_type": "markdown",
   "metadata": {},
   "source": [
    "### 3.1. Importing textblob"
   ]
  },
  {
   "cell_type": "markdown",
   "metadata": {},
   "source": [
    "As we mentioned at the beginning of this post, textblob will allow us to do sentiment analysis in a very simple way. We will also use the re library from Python, which is used to work with regular expressions. For this, I'll provide you two utility functions to: a) clean text (which means that any symbol distinct to an alphanumeric value will be remapped into a new one that satisfies this condition), and b) create a classifier to analyze the polarity of each tweet after cleaning the text in it. I won't explain the specific way in which the function that cleans works, since it would be extended and it might be better understood in the official redocumentation."
   ]
  },
  {
   "cell_type": "code",
   "execution_count": 21,
   "metadata": {},
   "outputs": [
    {
     "ename": "ModuleNotFoundError",
     "evalue": "No module named 'textblob'",
     "output_type": "error",
     "traceback": [
      "\u001b[1;31m---------------------------------------------------------------------------\u001b[0m",
      "\u001b[1;31mModuleNotFoundError\u001b[0m                       Traceback (most recent call last)",
      "\u001b[1;32m<ipython-input-21-81cba89580de>\u001b[0m in \u001b[0;36m<module>\u001b[1;34m()\u001b[0m\n\u001b[1;32m----> 1\u001b[1;33m \u001b[1;32mfrom\u001b[0m \u001b[0mtextblob\u001b[0m \u001b[1;32mimport\u001b[0m \u001b[0mTextBlob\u001b[0m\u001b[1;33m\u001b[0m\u001b[0m\n\u001b[0m\u001b[0;32m      2\u001b[0m \u001b[1;32mimport\u001b[0m \u001b[0mre\u001b[0m\u001b[1;33m\u001b[0m\u001b[0m\n\u001b[0;32m      3\u001b[0m \u001b[1;33m\u001b[0m\u001b[0m\n\u001b[0;32m      4\u001b[0m \u001b[1;32mdef\u001b[0m \u001b[0mclean_tweet\u001b[0m\u001b[1;33m(\u001b[0m\u001b[0mtweet\u001b[0m\u001b[1;33m)\u001b[0m\u001b[1;33m:\u001b[0m\u001b[1;33m\u001b[0m\u001b[0m\n\u001b[0;32m      5\u001b[0m     '''\n",
      "\u001b[1;31mModuleNotFoundError\u001b[0m: No module named 'textblob'"
     ]
    }
   ],
   "source": [
    "from textblob import TextBlob\n",
    "import re\n",
    "\n",
    "def clean_tweet(tweet):\n",
    "    '''\n",
    "    Utility function to clean the text in a tweet by removing \n",
    "    links and special characters using regex.\n",
    "    '''\n",
    "    return ' '.join(re.sub(\"(@[A-Za-z0-9]+)|([^0-9A-Za-z \\t])|(\\w+:\\/\\/\\S+)\", \" \", tweet).split())\n",
    "\n",
    "def analize_sentiment(tweet):\n",
    "    '''\n",
    "    Utility function to classify the polarity of a tweet\n",
    "    using textblob.\n",
    "    '''\n",
    "    analysis = TextBlob(clean_tweet(tweet))\n",
    "    if analysis.sentiment.polarity > 0:\n",
    "        return 1\n",
    "    elif analysis.sentiment.polarity == 0:\n",
    "        return 0\n",
    "    else:\n",
    "        return -1"
   ]
  }
 ],
 "metadata": {
  "kernelspec": {
   "display_name": "Python 3",
   "language": "python",
   "name": "python3"
  },
  "language_info": {
   "codemirror_mode": {
    "name": "ipython",
    "version": 3
   },
   "file_extension": ".py",
   "mimetype": "text/x-python",
   "name": "python",
   "nbconvert_exporter": "python",
   "pygments_lexer": "ipython3",
   "version": "3.6.2"
  }
 },
 "nbformat": 4,
 "nbformat_minor": 2
}
